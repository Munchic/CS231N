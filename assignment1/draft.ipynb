{
 "cells": [
  {
   "cell_type": "code",
   "execution_count": 2,
   "metadata": {},
   "outputs": [],
   "source": [
    "import numpy as np\n",
    "\n",
    "X_train = np.array([[5, 6, 2, 3], [1, 2, 4, 2], [3, 2, 4, 4], [5, 6, 2, 3], [1, 2, 4, 2], [3, 2, 4, 4], [3, 2, 4, 4], [5, 6, 2, 3], [1, 2, 4, 2], [3, 2, 4, 4], [3, 2, 4, 4], [5, 6, 2, 3], [1, 2, 4, 2]])\n",
    "X = np.array([[1, 2, 4, 7], [2, 3, 5, 1], [3, 4, 5, 3]])"
   ]
  },
  {
   "cell_type": "code",
   "execution_count": 34,
   "metadata": {},
   "outputs": [
    {
     "name": "stdout",
     "output_type": "stream",
     "text": [
      "(3, 4) (13, 4)\n",
      "[70 39 59]\n",
      "[74 25 45 74 25 45 45 74 25 45 45 74 25]\n",
      "[[ -92  -70 -102  -92  -70 -102 -102  -92  -70 -102 -102  -92  -70]\n",
      " [ -82  -60  -72  -82  -60  -72  -72  -82  -60  -72  -72  -82  -60]\n",
      " [-116  -74  -98 -116  -74  -98  -98 -116  -74  -98  -98 -116  -74]]\n",
      "\n",
      "[[-22   0 -32 -22   0 -32 -32 -22   0 -32 -32 -22   0]\n",
      " [-43 -21 -33 -43 -21 -33 -33 -43 -21 -33 -33 -43 -21]\n",
      " [-57 -15 -39 -57 -15 -39 -39 -57 -15 -39 -39 -57 -15]]\n",
      "\n",
      "[[52 25 13 52 25 13 13 52 25 13 13 52 25]\n",
      " [31  4 12 31  4 12 12 31  4 12 12 31  4]\n",
      " [17 10  6 17 10  6  6 17 10  6  6 17 10]]\n",
      "[[7.21110255 5.         3.60555128 7.21110255 5.         3.60555128\n",
      "  3.60555128 7.21110255 5.         3.60555128 3.60555128 7.21110255\n",
      "  5.        ]\n",
      " [5.56776436 2.         3.46410162 5.56776436 2.         3.46410162\n",
      "  3.46410162 5.56776436 2.         3.46410162 3.46410162 5.56776436\n",
      "  2.        ]\n",
      " [4.12310563 3.16227766 2.44948974 4.12310563 3.16227766 2.44948974\n",
      "  2.44948974 4.12310563 3.16227766 2.44948974 2.44948974 4.12310563\n",
      "  3.16227766]]\n",
      "(3, 13)\n"
     ]
    }
   ],
   "source": [
    "def compute_distances_two_loops(X_train, X):\n",
    "    \"\"\"\n",
    "    Compute the distance between each test point in X and each training point\n",
    "    in self.X_train using a nested loop over both the training data and the \n",
    "    test data.\n",
    "\n",
    "    Inputs:\n",
    "    - X: A numpy array of shape (num_test, D) containing test data.\n",
    "\n",
    "    Returns:\n",
    "    - dists: A numpy array of shape (num_test, num_train) where dists[i, j]\n",
    "      is the Euclidean distance between the ith test point and the jth training\n",
    "      point.\n",
    "    \"\"\"\n",
    "    num_test = X.shape[0]\n",
    "    num_train = X_train.shape[0]\n",
    "    dists = np.zeros((num_test, num_train))\n",
    "    for i in range(num_test):\n",
    "      for j in range(num_train):\n",
    "        dists[i, j] = np.sum((X[i] - X_train[j])**2)**.5\n",
    "        #####################################################################\n",
    "        # TODO:                                                             #\n",
    "        # Compute the l2 distance between the ith test point and the jth    #\n",
    "        # training point, and store the result in dists[i, j]. You should   #\n",
    "        # not use a loop over dimension.                                    #\n",
    "        #####################################################################\n",
    "        pass\n",
    "        #####################################################################\n",
    "        #                       END OF YOUR CODE                            #\n",
    "        #####################################################################\n",
    "    return dists\n",
    "\n",
    "def compute_distances_no_loops(X_train, X):\n",
    "    \"\"\"\n",
    "    Compute the distance between each test point in X and each training point\n",
    "    in self.X_train using no explicit loops.\n",
    "\n",
    "    Input / Output: Same as compute_distances_two_loops\n",
    "    \"\"\"\n",
    "    num_test = X.shape[0]\n",
    "    num_train = X_train.shape[0]\n",
    "    dists = np.zeros((num_test, num_train))\n",
    "\n",
    "    # a^2 - 2ab + b^2 = (a - b)^2, now we will calculate -2ab\n",
    "    dists = np.dot(X, X_train.T) * (-2)\n",
    "    test_sq_sum = np.sum(X**2, axis=1)\n",
    "    train_sq_sum = np.sum(X_train**2, axis=1)\n",
    "    \n",
    "    print(test_sq_sum)\n",
    "    print(train_sq_sum)\n",
    "    \n",
    "    # adding the a^2 and b^2 terms\n",
    "    print(dists)\n",
    "    dists = (dists.T + test_sq_sum.T).T\n",
    "    print()\n",
    "    print(dists)\n",
    "    dists += train_sq_sum\n",
    "    print()\n",
    "    print(dists)\n",
    "    dists = np.sqrt(dists)\n",
    "    \n",
    "    return dists\n",
    "\n",
    "\n",
    "\n",
    "print(X.shape, X_train.shape)\n",
    "\n",
    "dists = compute_distances_no_loops(X_train, X)\n",
    "print(dists)\n",
    "print(dists.shape)"
   ]
  },
  {
   "cell_type": "code",
   "execution_count": 4,
   "metadata": {},
   "outputs": [
    {
     "data": {
      "text/plain": [
       "7.211102550927978"
      ]
     },
     "execution_count": 4,
     "metadata": {},
     "output_type": "execute_result"
    }
   ],
   "source": [
    "((5-1)**2 + 4**2 + 2**2 + 4**2)**.5"
   ]
  },
  {
   "cell_type": "code",
   "execution_count": 5,
   "metadata": {},
   "outputs": [
    {
     "data": {
      "text/plain": [
       "array([14, 11, 15])"
      ]
     },
     "execution_count": 5,
     "metadata": {},
     "output_type": "execute_result"
    }
   ],
   "source": [
    "np.sum(X, axis=1)"
   ]
  },
  {
   "cell_type": "code",
   "execution_count": null,
   "metadata": {},
   "outputs": [],
   "source": []
  }
 ],
 "metadata": {
  "kernelspec": {
   "display_name": "Python 3",
   "language": "python",
   "name": "python3"
  },
  "language_info": {
   "codemirror_mode": {
    "name": "ipython",
    "version": 3
   },
   "file_extension": ".py",
   "mimetype": "text/x-python",
   "name": "python",
   "nbconvert_exporter": "python",
   "pygments_lexer": "ipython3",
   "version": "3.7.0"
  }
 },
 "nbformat": 4,
 "nbformat_minor": 2
}
